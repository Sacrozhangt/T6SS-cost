{
  "nbformat": 4,
  "nbformat_minor": 0,
  "metadata": {
    "colab": {
      "private_outputs": true,
      "provenance": []
    },
    "kernelspec": {
      "name": "python3",
      "display_name": "Python 3"
    },
    "language_info": {
      "name": "python"
    }
  },
  "cells": [
    {
      "cell_type": "code",
      "execution_count": null,
      "metadata": {
        "id": "V9pPDFlPCA3d"
      },
      "outputs": [],
      "source": [
        "import numpy as np\n",
        "import matplotlib.pyplot as plt\n",
        "import seaborn as sns\n",
        "import random\n",
        "import pandas as pd\n",
        "rng = np.random.default_rng()\n",
        "from tqdm import tqdm"
      ]
    },
    {
      "cell_type": "code",
      "source": [
        "def WF (N,A,G,S,M,P):\n",
        "  '''\n",
        "  Wright-Fisher Simulation: \n",
        "\n",
        "  N = Total individuals\n",
        "  A = Number of T6+\n",
        "  G = Generations\n",
        "  S = Cost of T6+\n",
        "  M = Mutation rate per cell per generation\n",
        "  P = Parameter of exponential distribution\n",
        "  '''\n",
        "  \n",
        "  data = [] #stores all the generational data\n",
        "  data.append([[[1], [N-A]], [[1-S], [A]]]) #first generation of bacteria\n",
        "\n",
        "\n",
        "  for g in range (G):\n",
        "    #using the last generation of bacterial counts to calculate the new generation\n",
        "    original_fitness = [data[-1][0][0], data[-1][1][0]]  #fitness of the bacteria\n",
        "    total_T6_minus_mutants = len(original_fitness[0])\n",
        "\n",
        "    fitness = np.concatenate(original_fitness)\n",
        "    numbers = np.concatenate((data[-1][0][1], data[-1][1][1]))\n",
        "\n",
        "    #Generate new mutants\n",
        "    WFweights = (fitness * numbers) / np.sum(fitness * numbers) #weights of each bacteria \n",
        "    new_bacteria = rng.multinomial(N, WFweights) #next generation of bacteria\n",
        "\n",
        "    if M == 0:  #if there are no mutants, save processor power on calculating mutants\n",
        "      data.append([[[1], [new_bacteria[0]]], [[1-S], [new_bacteria[1]]]])\n",
        "      continue\n",
        "\n",
        "    #prune bacterial strains with 0 quantity of bacteria\n",
        "    fitness = [fitness[:total_T6_minus_mutants], fitness[total_T6_minus_mutants:]]\n",
        "    new_bacteria = [new_bacteria[:total_T6_minus_mutants], new_bacteria[total_T6_minus_mutants:]]\n",
        "    WFweights = [WFweights[:total_T6_minus_mutants], WFweights[total_T6_minus_mutants:]]\n",
        "\n",
        "    for k in range (2):\n",
        "      WFweights[k] = [v for i, v in enumerate (WFweights[k]) if v != 0 and new_bacteria[k][i] != 0] \n",
        "      fitness[k] = [v for i, v in enumerate (fitness[k]) if v != 0 and new_bacteria[k][i] != 0]\n",
        "      new_bacteria[k] = [v for i, v in enumerate (new_bacteria[k]) if v != 0 and new_bacteria[k][i] != 0]\n",
        "\n",
        "    #reset variables after updating the 0 quantity bacteria \n",
        "    new_bacteria = np.concatenate(new_bacteria)\n",
        "    total_T6_minus_mutants = len(fitness[0])\n",
        "    WFweights = np.concatenate(WFweights)\n",
        "\n",
        "    #generating new mutants\n",
        "    mutant_count = rng.binomial(N, M) # #of new mutants\n",
        "    new_mutants = rng.multinomial(mutant_count, WFweights) #identifying which strains were mutated\n",
        "    subtracted = new_bacteria - new_mutants #subtracting those strains out\n",
        "    subtracted = [subtracted[:total_T6_minus_mutants],subtracted[total_T6_minus_mutants:]]\n",
        "    num_T6_minus = sum(new_mutants[:total_T6_minus_mutants])# total T6- bacteria\n",
        "\n",
        "    #calculating fitness benefits of each new bacteria\n",
        "    new_benefits = rng.exponential(P, mutant_count)\n",
        "    T6_minus_benefits = (new_benefits[:num_T6_minus])\n",
        "    T6_plus_benefits = (new_benefits[num_T6_minus:])\n",
        "\n",
        "    new_mutants = [new_mutants[:total_T6_minus_mutants],new_mutants[total_T6_minus_mutants:]]\n",
        "\n",
        "    #adding the fitness benefit of the mutation onto the mutational background\n",
        "    background = []\n",
        "    [background.extend((fitness[0][j]) * np.ones(new_mutants[0][j]))for j in range (len(fitness[0]))]\n",
        "    T6_minus_benefits = background + T6_minus_benefits\n",
        "\n",
        "    background = []\n",
        "    [background.extend((fitness[1][j]) * np.ones(new_mutants[1][j]))for j in range (len(fitness[1]))]\n",
        "    T6_plus_benefits = background + T6_plus_benefits\n",
        "\n",
        "    #update the datatable\n",
        "    updated_data = []\n",
        "\n",
        "    for i, v in enumerate ((T6_minus_benefits,T6_plus_benefits)):\n",
        "      updated_data.append([np.concatenate((fitness[i], v)) ,\n",
        "                            np.concatenate((subtracted[i], np.ones(len(v))))])\n",
        "    data.append(updated_data)\n",
        "\n",
        "\n",
        "  return (data)"
      ],
      "metadata": {
        "id": "GeY2fUXOCLj4"
      },
      "execution_count": null,
      "outputs": []
    }
  ]
}